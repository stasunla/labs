{
 "cells": [
  {
   "cell_type": "code",
   "execution_count": 10,
   "id": "aced06c0-07c7-4a5c-9552-00bf39e6eea3",
   "metadata": {
    "tags": []
   },
   "outputs": [],
   "source": [
    "import pandas as pd\n",
    "from sklearn.model_selection import train_test_split, GridSearchCV\n",
    "from sklearn.pipeline import Pipeline\n",
    "from sklearn.svm import SVC"
   ]
  },
  {
   "cell_type": "code",
   "execution_count": 11,
   "id": "7df2c8f3-98de-45d7-9141-f7574b844bcd",
   "metadata": {
    "tags": []
   },
   "outputs": [],
   "source": [
    "# Загрузка данных\n",
    "data = pd.read_csv(\"iris.csv\")"
   ]
  },
  {
   "cell_type": "code",
   "execution_count": 12,
   "id": "9e73c5ee-70b2-4e17-b42a-914df8c7db29",
   "metadata": {
    "tags": []
   },
   "outputs": [],
   "source": [
    "# Разделение данных на признаки (X) и метки классов (y)\n",
    "X = data.drop(\"Species\", axis=1) #разделение по столбцам\n",
    "y = data['Species']"
   ]
  },
  {
   "cell_type": "code",
   "execution_count": 13,
   "id": "3b6375e7-2c05-4dea-a55a-8e3a97f73519",
   "metadata": {
    "tags": []
   },
   "outputs": [],
   "source": [
    "# Разделение данных на обучающий и тестовый наборы\n",
    "X_train, X_test, y_train, y_test = train_test_split(X, y, test_size=0.2, random_state=0)"
   ]
  },
  {
   "cell_type": "code",
   "execution_count": 14,
   "id": "0f562f7c-6810-4726-9f22-c6113a28b5e3",
   "metadata": {
    "tags": []
   },
   "outputs": [],
   "source": [
    "# Определение параметров для подбора с помощью сетки\n",
    "parameters = {\n",
    "    \"clf__gamma\": [0.001, 0.01, 0.005, 0.02], #тот график с лужными областями\n",
    "    \"clf__C\": [1, 10, 50, 100, 200, 500, 1000]\n",
    "}"
   ]
  },
  {
   "cell_type": "code",
   "execution_count": 15,
   "id": "d53df01f-1308-4893-aded-3d3098cf96e3",
   "metadata": {
    "tags": []
   },
   "outputs": [],
   "source": [
    "# Создание конвейера для обработки данных и моделирования\n",
    "pipeline = Pipeline([ #обучающая переиенная\n",
    "    (\"clf\", SVC())\n",
    "])"
   ]
  },
  {
   "cell_type": "code",
   "execution_count": 16,
   "id": "0c3d5ecd-246a-4062-8342-3e9f375f7af9",
   "metadata": {
    "tags": []
   },
   "outputs": [
    {
     "data": {
      "text/plain": [
       "GridSearchCV(cv=4, estimator=Pipeline(steps=[('clf', SVC())]),\n",
       "             param_grid={'clf__C': [1, 10, 50, 100, 200, 500, 1000],\n",
       "                         'clf__gamma': [0.001, 0.01, 0.005, 0.02]})"
      ]
     },
     "execution_count": 16,
     "metadata": {},
     "output_type": "execute_result"
    }
   ],
   "source": [
    "# Поиск оптимальных параметров модели с помощью кросс-валидации, обучаем по-русски говоря\n",
    "grid_search = GridSearchCV(pipeline, parameters, cv=4)\n",
    "grid_search.fit(X_train, y_train)"
   ]
  },
  {
   "cell_type": "code",
   "execution_count": 17,
   "id": "307dfa69-c720-4cc3-920b-4e2b0e5d33fc",
   "metadata": {
    "tags": []
   },
   "outputs": [],
   "source": [
    "# Предсказание меток классов на тестовом наборе\n",
    "pred = grid_search.predict(X_test)"
   ]
  },
  {
   "cell_type": "code",
   "execution_count": 18,
   "id": "f8767d26-eb0e-4e31-af40-1fc1b046b0f9",
   "metadata": {
    "tags": []
   },
   "outputs": [
    {
     "name": "stdout",
     "output_type": "stream",
     "text": [
      "Accuracy: 100.0 %\n"
     ]
    }
   ],
   "source": [
    "# Вычисление и вывод точности предсказаний в процентах\n",
    "accuracy_percentage = grid_search.score(X_test, y_test) * 100\n",
    "print(\"Accuracy:\", accuracy_percentage, \"%\")"
   ]
  },
  {
   "cell_type": "code",
   "execution_count": null,
   "id": "62a80194-151b-4357-8859-54a28f39743d",
   "metadata": {},
   "outputs": [],
   "source": []
  },
  {
   "cell_type": "code",
   "execution_count": null,
   "id": "aa29e518-e75a-45e3-a5fb-d80ff187537d",
   "metadata": {},
   "outputs": [],
   "source": []
  }
 ],
 "metadata": {
  "kernelspec": {
   "display_name": "Python 3 (ipykernel)",
   "language": "python",
   "name": "python3"
  },
  "language_info": {
   "codemirror_mode": {
    "name": "ipython",
    "version": 3
   },
   "file_extension": ".py",
   "mimetype": "text/x-python",
   "name": "python",
   "nbconvert_exporter": "python",
   "pygments_lexer": "ipython3",
   "version": "3.7.4"
  }
 },
 "nbformat": 4,
 "nbformat_minor": 5
}
